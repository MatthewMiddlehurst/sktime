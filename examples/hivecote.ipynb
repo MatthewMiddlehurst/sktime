{
 "cells": [
  {
   "cell_type": "markdown",
   "metadata": {},
   "source": [
    "# Classification with HIVE-COTE in sktime\n",
    "\n",
    "todo\n",
    "\n",
    "#### References:\n",
    "\n",
    "todo"
   ]
  },
  {
   "cell_type": "markdown",
   "metadata": {},
   "source": [
    "## 1. Imports"
   ]
  },
  {
   "cell_type": "code",
   "execution_count": 1,
   "metadata": {
    "execution": {
     "iopub.execute_input": "2020-12-19T14:32:05.163967Z",
     "iopub.status.busy": "2020-12-19T14:32:05.163440Z",
     "iopub.status.idle": "2020-12-19T14:32:05.914752Z",
     "shell.execute_reply": "2020-12-19T14:32:05.915264Z"
    }
   },
   "outputs": [],
   "source": [
    "from sklearn import metrics\n",
    "\n",
    "from sktime.classification.hybrid import HIVECOTEV1, HIVECOTEV2\n",
    "from sktime.datasets import load_italy_power_demand\n",
    "from sktime.datasets.base import load_japanese_vowels"
   ]
  },
  {
   "cell_type": "markdown",
   "metadata": {},
   "source": [
    "## 2. Load data"
   ]
  },
  {
   "cell_type": "code",
   "execution_count": 2,
   "metadata": {
    "execution": {
     "iopub.execute_input": "2020-12-19T14:32:05.919120Z",
     "iopub.status.busy": "2020-12-19T14:32:05.918629Z",
     "iopub.status.idle": "2020-12-19T14:32:06.041420Z",
     "shell.execute_reply": "2020-12-19T14:32:06.040742Z"
    }
   },
   "outputs": [
    {
     "name": "stdout",
     "output_type": "stream",
     "text": [
      "(67, 1) (67,) (50, 1) (50,)\n",
      "(50, 12) (50,) (50, 12) (50,)\n"
     ]
    }
   ],
   "source": [
    "X_train, y_train = load_italy_power_demand(split=\"train\", return_X_y=True)\n",
    "X_test, y_test = load_italy_power_demand(split=\"test\", return_X_y=True)\n",
    "X_test = X_test[:50]\n",
    "y_test = y_test[:50]\n",
    "\n",
    "print(X_train.shape, y_train.shape, X_test.shape, y_test.shape)\n",
    "\n",
    "X_train_mv, y_train_mv = load_japanese_vowels(split=\"train\", return_X_y=True)\n",
    "X_test_mv, y_test_mv = load_japanese_vowels(split=\"test\", return_X_y=True)\n",
    "\n",
    "X_train_mv = X_train_mv[:50]\n",
    "y_train_mv = y_train_mv[:50]\n",
    "X_test_mv = X_test_mv[:50]\n",
    "y_test_mv = y_test_mv[:50]\n",
    "\n",
    "print(X_train_mv.shape, y_train_mv.shape, X_test_mv.shape, y_test_mv.shape)"
   ]
  },
  {
   "cell_type": "markdown",
   "metadata": {},
   "source": [
    "## 3. HIVE-COTE version 1\n",
    "\n",
    "todo"
   ]
  },
  {
   "cell_type": "code",
   "execution_count": 3,
   "metadata": {
    "execution": {
     "iopub.execute_input": "2020-12-19T14:32:06.045197Z",
     "iopub.status.busy": "2020-12-19T14:32:06.044696Z",
     "iopub.status.idle": "2020-12-19T14:32:06.460714Z",
     "shell.execute_reply": "2020-12-19T14:32:06.461260Z"
    },
    "pycharm": {
     "name": "#%%\n"
    }
   },
   "outputs": [
    {
     "name": "stdout",
     "output_type": "stream",
     "text": [
      "HIVE-COTE V1 Accuracy: 1.0\n"
     ]
    }
   ],
   "source": [
    "# Module setting can be selected as parameters, the default (and recommended) values\n",
    "# are higher but have been reduced for the purposes of this tutorial.\n",
    "\n",
    "hc1 = HIVECOTEV1(\n",
    "    stc_params={\"transform_contract_in_mins\": 0.05, \"n_estimators\": 50},\n",
    "    tsf_params = {\"n_estimators\": 50},\n",
    "    rise_params = {\"n_estimators\": 50},\n",
    "    cboss_params = {\"n_parameter_samples\": 50, \"max_ensemble_size\": 20},\n",
    "    random_state=47,\n",
    ")\n",
    "hc1.fit(X_train, y_train)\n",
    "\n",
    "hc1_preds = hc1.predict(X_test)\n",
    "print(\"HIVE-COTE V1 Accuracy: \" + str(metrics.accuracy_score(y_test, hc1_preds)))"
   ]
  },
  {
   "cell_type": "markdown",
   "source": [
    "## 4. HIVE-COTE version 2\n",
    "\n",
    "todo\n",
    "\n",
    "### Univariate"
   ],
   "metadata": {
    "collapsed": false
   }
  },
  {
   "cell_type": "code",
   "execution_count": 4,
   "outputs": [
    {
     "ename": "TypeError",
     "evalue": "__init__() got an unexpected keyword argument 'randomly_selected_params='",
     "output_type": "error",
     "traceback": [
      "\u001B[1;31m---------------------------------------------------------------------------\u001B[0m",
      "\u001B[1;31mTypeError\u001B[0m                                 Traceback (most recent call last)",
      "\u001B[1;32m<ipython-input-4-b55a10493b47>\u001B[0m in \u001B[0;36m<module>\u001B[1;34m\u001B[0m\n\u001B[0;32m     13\u001B[0m     \u001B[0mrandom_state\u001B[0m\u001B[1;33m=\u001B[0m\u001B[1;36m47\u001B[0m\u001B[1;33m,\u001B[0m\u001B[1;33m\u001B[0m\u001B[1;33m\u001B[0m\u001B[0m\n\u001B[0;32m     14\u001B[0m )\n\u001B[1;32m---> 15\u001B[1;33m \u001B[0mhc2\u001B[0m\u001B[1;33m.\u001B[0m\u001B[0mfit\u001B[0m\u001B[1;33m(\u001B[0m\u001B[0mX_train\u001B[0m\u001B[1;33m,\u001B[0m \u001B[0my_train\u001B[0m\u001B[1;33m)\u001B[0m\u001B[1;33m\u001B[0m\u001B[1;33m\u001B[0m\u001B[0m\n\u001B[0m\u001B[0;32m     16\u001B[0m \u001B[1;33m\u001B[0m\u001B[0m\n\u001B[0;32m     17\u001B[0m \u001B[0mhc2_preds\u001B[0m \u001B[1;33m=\u001B[0m \u001B[0mhc2\u001B[0m\u001B[1;33m.\u001B[0m\u001B[0mpredict\u001B[0m\u001B[1;33m(\u001B[0m\u001B[0mX_test\u001B[0m\u001B[1;33m)\u001B[0m\u001B[1;33m\u001B[0m\u001B[1;33m\u001B[0m\u001B[0m\n",
      "\u001B[1;32mD:\\CMP Machine Learning\\sktime-workshop-boss\\sktime\\classification\\hybrid\\_hivecote_v2.py\u001B[0m in \u001B[0;36mfit\u001B[1;34m(self, X, y)\u001B[0m\n\u001B[0;32m    210\u001B[0m             \u001B[0mprint\u001B[0m\u001B[1;33m(\u001B[0m\u001B[1;34m\"Arsenal weight = \"\u001B[0m \u001B[1;33m+\u001B[0m \u001B[0mstr\u001B[0m\u001B[1;33m(\u001B[0m\u001B[0mself\u001B[0m\u001B[1;33m.\u001B[0m\u001B[0mrise_weight\u001B[0m\u001B[1;33m)\u001B[0m\u001B[1;33m)\u001B[0m  \u001B[1;31m# noqa\u001B[0m\u001B[1;33m\u001B[0m\u001B[1;33m\u001B[0m\u001B[0m\n\u001B[0;32m    211\u001B[0m \u001B[1;33m\u001B[0m\u001B[0m\n\u001B[1;32m--> 212\u001B[1;33m         self.tde = TemporalDictionaryEnsemble(\n\u001B[0m\u001B[0;32m    213\u001B[0m             \u001B[1;33m**\u001B[0m\u001B[0mself\u001B[0m\u001B[1;33m.\u001B[0m\u001B[0mtde_params\u001B[0m\u001B[1;33m,\u001B[0m \u001B[0mrandom_state\u001B[0m\u001B[1;33m=\u001B[0m\u001B[0mself\u001B[0m\u001B[1;33m.\u001B[0m\u001B[0mrandom_state\u001B[0m\u001B[1;33m,\u001B[0m \u001B[0mn_jobs\u001B[0m\u001B[1;33m=\u001B[0m\u001B[0mself\u001B[0m\u001B[1;33m.\u001B[0m\u001B[0mn_jobs\u001B[0m\u001B[1;33m\u001B[0m\u001B[1;33m\u001B[0m\u001B[0m\n\u001B[0;32m    214\u001B[0m         )\n",
      "\u001B[1;31mTypeError\u001B[0m: __init__() got an unexpected keyword argument 'randomly_selected_params='"
     ]
    }
   ],
   "source": [
    "# Module parameters can be selected as parameters, the default (and recommended) values\n",
    "# are higher but have been reduced for the purposes of this tutorial.\n",
    "\n",
    "hc2 = HIVECOTEV2(\n",
    "    stc_params={\"transform_contract_in_mins\": 0.05, \"n_estimators\": 50},\n",
    "    drcif_params = {\"n_estimators\": 50},\n",
    "    arsenal_params = {\"num_kernels\": 1000, \"n_estimators\": 5},\n",
    "    tde_params = {\n",
    "        \"n_parameter_samples\": 50,\n",
    "        \"max_ensemble_size\": 20,\n",
    "        \"randomly_selected_params=\": 20,\n",
    "    },\n",
    "    random_state=47,\n",
    ")\n",
    "hc2.fit(X_train, y_train)\n",
    "\n",
    "hc2_preds = hc2.predict(X_test)\n",
    "print(\"HIVE-COTE V2 Accuracy: \" + str(metrics.accuracy_score(y_test, hc2_preds)))"
   ],
   "metadata": {
    "collapsed": false,
    "pycharm": {
     "name": "#%%\n"
    }
   }
  },
  {
   "cell_type": "markdown",
   "source": [
    "### Multivariate"
   ],
   "metadata": {
    "collapsed": false
   }
  },
  {
   "cell_type": "code",
   "execution_count": null,
   "outputs": [],
   "source": [
    "# Module parameters can be selected as parameters, the default (and recommended) values\n",
    "# are higher but have been reduced for the purposes of this tutorial.\n",
    "\n",
    "hc2_mv = HIVECOTEV2(\n",
    "    stc_params={\"transform_contract_in_mins\": 0.05, \"n_estimators\": 50},\n",
    "    drcif_params = {\"n_estimators\": 50},\n",
    "    arsenal_params = {\"num_kernels\": 1000, \"n_estimators\": 5},\n",
    "    tde_params = {\n",
    "        \"n_parameter_samples\": 50,\n",
    "        \"max_ensemble_size\": 20,\n",
    "        \"randomly_selected_params=\": 20,\n",
    "    },\n",
    "    random_state=47,\n",
    ")\n",
    "hc2_mv.fit(X_train_mv, y_train_mv)\n",
    "\n",
    "hc2_preds_mv = hc2.predict(X_test_mv)\n",
    "print(\"HIVE-COTE V2 Accuracy: \" + str(metrics.accuracy_score(y_test_mv, hc2_preds_mv)))"
   ],
   "metadata": {
    "collapsed": false,
    "pycharm": {
     "name": "#%%\n"
    }
   }
  }
 ],
 "metadata": {
  "kernelspec": {
   "display_name": "Python 3",
   "language": "python",
   "name": "python3"
  },
  "language_info": {
   "codemirror_mode": {
    "name": "ipython",
    "version": 3
   },
   "file_extension": ".py",
   "mimetype": "text/x-python",
   "name": "python",
   "nbconvert_exporter": "python",
   "pygments_lexer": "ipython3",
   "version": "3.7.8"
  }
 },
 "nbformat": 4,
 "nbformat_minor": 2
}